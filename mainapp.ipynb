{
 "cells": [
  {
   "cell_type": "code",
   "execution_count": 1,
   "id": "96988335",
   "metadata": {},
   "outputs": [],
   "source": [
    "from keras.models import load_model\n",
    "from time import sleep\n",
    "from keras.preprocessing.image import img_to_array\n",
    "from keras.preprocessing import image\n",
    "import cv2\n",
    "import numpy as np\n",
    "import mysql.connector\n",
    "\n",
    "from datetime import datetime\n",
    "  \n",
    "# ct stores current time\n",
    "now = datetime.now()\n",
    "formatted_date = now.strftime('%Y-%m-%d %H:%M:%S')\n",
    "\n",
    "\n",
    "\n",
    "db= mysql.connector.connect(\n",
    "\n",
    "\thost = \"localhost\",\n",
    "\tuser = \"root\",\n",
    "\tpasswd = \"root\",\n",
    "    database = \"fedd\"\n",
    "\t\n",
    "\n",
    "\t)\n",
    "mycursor = db.cursor()\n",
    "\n",
    "\n",
    "face_classifier = cv2.CascadeClassifier(r'A:\\sem6project\\Emotion_Detection_CNN-main\\haarcascade_frontalface_default.xml')\n",
    "classifier =load_model(r'A:\\sem6project\\Emotion_Detection_CNN-main\\model.h5')\n",
    "\n",
    "emotion_labels = ['Angry','Disgust','Fear','Happy','Neutral', 'Sad', 'Surprise']\n",
    "\n",
    "cap = cv2.VideoCapture(0)\n",
    "\n",
    "\n",
    "\n",
    "\n",
    "while True:\n",
    "    _, frame = cap.read()\n",
    "    labels = []\n",
    "    gray = cv2.cvtColor(frame,cv2.COLOR_BGR2GRAY)\n",
    "    faces = face_classifier.detectMultiScale(gray)\n",
    "\n",
    "    for (x,y,w,h) in faces:\n",
    "        cv2.rectangle(frame,(x,y),(x+w,y+h),(0,255,255),2)\n",
    "        roi_gray = gray[y:y+h,x:x+w]\n",
    "        roi_gray = cv2.resize(roi_gray,(48,48),interpolation=cv2.INTER_AREA)\n",
    "\n",
    "\n",
    "\n",
    "        if np.sum([roi_gray])!=0:\n",
    "            roi = roi_gray.astype('float')/255.0\n",
    "            roi = img_to_array(roi)\n",
    "            roi = np.expand_dims(roi,axis=0)\n",
    "\n",
    "            prediction = classifier.predict(roi)[0]\n",
    "            label=emotion_labels[prediction.argmax()]\n",
    "            label_position = (x,y)\n",
    "            cv2.putText(frame,label,label_position,cv2.FONT_HERSHEY_SIMPLEX,1,(0,255,0),2)\n",
    "\n",
    "            mycursor.execute('INSERT INTO data (emotion, DT) VALUES (%s,%s)',(label,formatted_date))\n",
    "            \n",
    "            \n",
    "            db.commit()\n",
    "        else:\n",
    "            cv2.putText(frame,'No Faces',(30,80),cv2.FONT_HERSHEY_SIMPLEX,1,(0,255,0),2)\n",
    "    cv2.imshow('Emotion Detector',frame)\n",
    "    if cv2.waitKey(1) & 0xFF == ord('q'):\n",
    "        break\n",
    "\n",
    "cap.release()\n",
    "cv2.destroyAllWindows()"
   ]
  },
  {
   "cell_type": "code",
   "execution_count": 2,
   "id": "0bda3ec1",
   "metadata": {},
   "outputs": [
    {
     "name": "stdout",
     "output_type": "stream",
     "text": [
      "[0.17869583 0.02064851 0.15866484 0.08786819 0.18069902 0.35725766\n",
      " 0.01616597]\n"
     ]
    }
   ],
   "source": [
    "print(prediction)"
   ]
  },
  {
   "cell_type": "code",
   "execution_count": 3,
   "id": "4fc08568",
   "metadata": {},
   "outputs": [
    {
     "name": "stdout",
     "output_type": "stream",
     "text": [
      "Sad\n"
     ]
    }
   ],
   "source": [
    "print(label)"
   ]
  },
  {
   "cell_type": "code",
   "execution_count": 4,
   "id": "35ffdebe",
   "metadata": {},
   "outputs": [
    {
     "name": "stdout",
     "output_type": "stream",
     "text": [
      "(201, 88)\n"
     ]
    }
   ],
   "source": [
    "print(label_position)"
   ]
  },
  {
   "cell_type": "code",
   "execution_count": 5,
   "id": "1ca6268f",
   "metadata": {},
   "outputs": [
    {
     "name": "stdout",
     "output_type": "stream",
     "text": [
      "[[[ 79  96 101]\n",
      "  [ 81  98 103]\n",
      "  [ 82  99 106]\n",
      "  ...\n",
      "  [129 156 160]\n",
      "  [134 156 158]\n",
      "  [134 156 158]]\n",
      "\n",
      " [[ 82  97 100]\n",
      "  [ 83  98 101]\n",
      "  [ 84  99 103]\n",
      "  ...\n",
      "  [132 158 163]\n",
      "  [132 159 161]\n",
      "  [132 159 161]]\n",
      "\n",
      " [[ 82  97 100]\n",
      "  [ 84  99 103]\n",
      "  [ 85 100 105]\n",
      "  ...\n",
      "  [134 158 161]\n",
      "  [135 160 162]\n",
      "  [134 158 161]]\n",
      "\n",
      " ...\n",
      "\n",
      " [[ 92  95  92]\n",
      "  [ 97 100  97]\n",
      "  [ 95 100  97]\n",
      "  ...\n",
      "  [ 68  68  68]\n",
      "  [ 68  66  68]\n",
      "  [ 66  63  66]]\n",
      "\n",
      " [[ 93  96  94]\n",
      "  [ 98 101  98]\n",
      "  [ 96 101 100]\n",
      "  ...\n",
      "  [ 69  68  70]\n",
      "  [ 68  66  68]\n",
      "  [ 64  61  63]]\n",
      "\n",
      " [[ 97  97  95]\n",
      "  [100 101  98]\n",
      "  [101 102  99]\n",
      "  ...\n",
      "  [ 69  68  72]\n",
      "  [ 68  67  69]\n",
      "  [ 65  65  67]]]\n"
     ]
    }
   ],
   "source": [
    "print(frame)"
   ]
  },
  {
   "cell_type": "code",
   "execution_count": 4,
   "id": "14ede3be",
   "metadata": {},
   "outputs": [
    {
     "name": "stdout",
     "output_type": "stream",
     "text": [
      "2022-02-03 18:23:31.684808\n"
     ]
    }
   ],
   "source": [
    "print(ct)"
   ]
  },
  {
   "cell_type": "code",
   "execution_count": 3,
   "id": "5839a69d",
   "metadata": {},
   "outputs": [
    {
     "name": "stdout",
     "output_type": "stream",
     "text": [
      "2022-02-03 18:23:31\n"
     ]
    }
   ],
   "source": [
    "print(dt)"
   ]
  },
  {
   "cell_type": "code",
   "execution_count": null,
   "id": "37e302d3",
   "metadata": {},
   "outputs": [],
   "source": []
  }
 ],
 "metadata": {
  "kernelspec": {
   "display_name": "Python 3 (ipykernel)",
   "language": "python",
   "name": "python3"
  },
  "language_info": {
   "codemirror_mode": {
    "name": "ipython",
    "version": 3
   },
   "file_extension": ".py",
   "mimetype": "text/x-python",
   "name": "python",
   "nbconvert_exporter": "python",
   "pygments_lexer": "ipython3",
   "version": "3.9.7"
  }
 },
 "nbformat": 4,
 "nbformat_minor": 5
}
